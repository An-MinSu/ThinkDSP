{
 "cells": [
  {
   "cell_type": "markdown",
   "id": "f65b52b7",
   "metadata": {},
   "source": [
    "# My first Example"
   ]
  },
  {
   "cell_type": "markdown",
   "id": "7ac6f595",
   "metadata": {},
   "source": [
    "My name is Min-su, This is homework 1."
   ]
  },
  {
   "cell_type": "code",
   "execution_count": 2,
   "id": "286c67f3",
   "metadata": {},
   "outputs": [
    {
     "data": {
      "text/plain": [
       "9"
      ]
     },
     "execution_count": 2,
     "metadata": {},
     "output_type": "execute_result"
    }
   ],
   "source": [
    "3+6"
   ]
  },
  {
   "cell_type": "code",
   "execution_count": null,
   "id": "4ecac5bb",
   "metadata": {},
   "outputs": [],
   "source": []
  }
 ],
 "metadata": {
  "kernelspec": {
   "display_name": "Python 3 (ipykernel)",
   "language": "python",
   "name": "python3"
  },
  "language_info": {
   "codemirror_mode": {
    "name": "ipython",
    "version": 3
   },
   "file_extension": ".py",
   "mimetype": "text/x-python",
   "name": "python",
   "nbconvert_exporter": "python",
   "pygments_lexer": "ipython3",
   "version": "3.9.7"
  }
 },
 "nbformat": 4,
 "nbformat_minor": 5
}
